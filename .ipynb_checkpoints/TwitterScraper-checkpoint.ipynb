{
 "cells": [
  {
   "cell_type": "code",
   "execution_count": 27,
   "metadata": {
    "collapsed": false
   },
   "outputs": [],
   "source": [
    "import time\n",
    "import sys\n",
    "\n",
    "import tweepy\n",
    "from tweepy import Cursor"
   ]
  },
  {
   "cell_type": "code",
   "execution_count": 28,
   "metadata": {
    "collapsed": false
   },
   "outputs": [],
   "source": [
    "consumer_key=\"Gzq1IKIPRpKfEmhc2czHrfIAH\"\n",
    "consumer_secret=\"7lXDKTQsRGx9jG1r8MJpUdwHCUROI34lgwR6GDq3vXokWotiCs\"\n",
    "access_token=\"717556130-IPSrD4HIJuu48ZqIgWirDFlZHyVTK572kmjjrXTK\"\n",
    "access_token_secret=\"TIZI5p09wX1dZxehca0rvuW97wdgsw2SAVX4bbjLFe9bP\"\n",
    "auth = tweepy.OAuthHandler(consumer_key, consumer_secret)\n",
    "auth.set_access_token(access_token, access_token_secret)\n",
    "api = tweepy.API(auth)"
   ]
  },
  {
   "cell_type": "code",
   "execution_count": 29,
   "metadata": {
    "collapsed": false
   },
   "outputs": [],
   "source": [
    "#get neo4j set up\n",
    "#note, you have to have neo4j running and on the default port\n",
    "from py2neo import Graph, authenticate\n",
    "\n",
    "authenticate(\"hobby-janfgbjnjildgbkedbobfpol.dbs.graphenedb.com:24789\", \"mytweets\", \"DaHSZJ8myG1AMZfNcvkh\")\n",
    "graph = Graph(\"http://hobby-janfgbjnjildgbkedbobfpol.dbs.graphenedb.com:24789/db/data/\", bolt = False)"
   ]
  },
  {
   "cell_type": "code",
   "execution_count": null,
   "metadata": {
    "collapsed": true
   },
   "outputs": [],
   "source": []
  },
  {
   "cell_type": "code",
   "execution_count": 36,
   "metadata": {
    "collapsed": true
   },
   "outputs": [],
   "source": [
    "def create_or_get_node(graph, twitter_user,labels=[]):\n",
    "    data = {'id_str': twitter_user.id_str,\n",
    "        'name': twitter_user.name,\n",
    "        'screen_name': twitter_user.screen_name,\n",
    "        'description': twitter_user.description,\n",
    "        'url': twitter_user.url,\n",
    "        'followers_count': twitter_user.followers_count,\n",
    "        'friends_count': twitter_user.friends_count,\n",
    "        'listed_count': twitter_user.listed_count,\n",
    "        'statuses_count': twitter_user.statuses_count,\n",
    "        'favourites_count': twitter_user.favourites_count,\n",
    "        'location': twitter_user.location,\n",
    "        'time_zone': twitter_user.time_zone,\n",
    "        'utc_offset': twitter_user.utc_offset,\n",
    "        'lang': twitter_user.lang,\n",
    "        'profile_image_url': twitter_user.profile_image_url,\n",
    "        'geo_enabled': twitter_user.geo_enabled,\n",
    "        'verified': twitter_user.verified,\n",
    "        'notifications': twitter_user.notifications,\n",
    "    }\n",
    "    query_string = \"\"\"\n",
    "        MERGE (u:User {id_str:{id_str}}) \n",
    "        ON CREATE SET\n",
    "\"\"\"+   (('u:'+',u:'.join(labels)+\",\") if labels else '') +\"\"\"\n",
    "            u.name={name},\n",
    "            u.screen_name={screen_name},\n",
    "            u.description={description},\n",
    "            u.url={url},\n",
    "            u.followers_count={followers_count},\n",
    "            u.friends_count={friends_count},\n",
    "            u.listed_count={listed_count},\n",
    "            u.statuses_count={statuses_count},\n",
    "            u.favourites_count={favourites_count},\n",
    "            u.location={location},\n",
    "            u.time_zone={time_zone},\n",
    "            u.utc_offset={utc_offset},\n",
    "            u.lang={lang},\n",
    "            u.profile_image_url={profile_image_url},\n",
    "            u.geo_enabled={geo_enabled},\n",
    "            u.verified={verified},\n",
    "            u.notifications={notifications}\n",
    "\"\"\" +   ((\"ON MATCH SET\\n  u:\"+',u:'.join(labels)) if labels else '') +\"\"\"\n",
    "        RETURN u\n",
    "    \"\"\"\n",
    "    n = graph.run(query_string, data)\n",
    "    return n\n"
   ]
  },
  {
   "cell_type": "code",
   "execution_count": 38,
   "metadata": {
    "collapsed": false
   },
   "outputs": [
    {
     "data": {
      "text/plain": [
       "<py2neo.database.Cursor at 0x110d8e550>"
      ]
     },
     "execution_count": 38,
     "metadata": {},
     "output_type": "execute_result"
    }
   ],
   "source": [
    "twitter_user = api.get_user('neo4j')\n",
    "create_or_get_node(graph,twitter_user)"
   ]
  },
  {
   "cell_type": "code",
   "execution_count": null,
   "metadata": {
    "collapsed": true
   },
   "outputs": [],
   "source": []
  }
 ],
 "metadata": {
  "kernelspec": {
   "display_name": "Python 3",
   "language": "python",
   "name": "python3"
  },
  "language_info": {
   "codemirror_mode": {
    "name": "ipython",
    "version": 3
   },
   "file_extension": ".py",
   "mimetype": "text/x-python",
   "name": "python",
   "nbconvert_exporter": "python",
   "pygments_lexer": "ipython3",
   "version": "3.6.0"
  }
 },
 "nbformat": 4,
 "nbformat_minor": 2
}
